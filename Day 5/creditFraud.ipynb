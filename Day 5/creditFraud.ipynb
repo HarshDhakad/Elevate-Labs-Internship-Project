{
 "cells": [
  {
   "cell_type": "code",
   "execution_count": 56,
   "id": "d1f6220b",
   "metadata": {},
   "outputs": [],
   "source": [
    "import pandas as pd;\n",
    "import numpy as np;\n",
    "import matplotlib.pyplot as plt"
   ]
  },
  {
   "cell_type": "markdown",
   "id": "25630c03",
   "metadata": {},
   "source": [
    "# 🧭 Step 1: Understand the Data You’re Working With\n",
    "Hint: Before doing anything else, load the dataset and try to get a feel of the data.\n",
    "Ask questions like:\n",
    "\n",
    "1. What columns are there?\n",
    "\n",
    "2. What types of values do they hold?\n",
    "\n",
    "3. Any weird values you notice right away?\n",
    "\n",
    "4. Are there NaNs?"
   ]
  },
  {
   "cell_type": "code",
   "execution_count": 2,
   "id": "c5732304",
   "metadata": {},
   "outputs": [],
   "source": [
    "df=pd.read_csv('dirty_credit_card_fraud_dataset.csv')"
   ]
  },
  {
   "cell_type": "code",
   "execution_count": 3,
   "id": "b8a3c6cf",
   "metadata": {},
   "outputs": [],
   "source": [
    "df1=df.copy()"
   ]
  },
  {
   "cell_type": "code",
   "execution_count": 4,
   "id": "0569685f",
   "metadata": {},
   "outputs": [
    {
     "data": {
      "text/html": [
       "<div>\n",
       "<style scoped>\n",
       "    .dataframe tbody tr th:only-of-type {\n",
       "        vertical-align: middle;\n",
       "    }\n",
       "\n",
       "    .dataframe tbody tr th {\n",
       "        vertical-align: top;\n",
       "    }\n",
       "\n",
       "    .dataframe thead th {\n",
       "        text-align: right;\n",
       "    }\n",
       "</style>\n",
       "<table border=\"1\" class=\"dataframe\">\n",
       "  <thead>\n",
       "    <tr style=\"text-align: right;\">\n",
       "      <th></th>\n",
       "      <th>TransactionID</th>\n",
       "      <th>UserID</th>\n",
       "      <th>TransactionAmount</th>\n",
       "      <th>TransactionType</th>\n",
       "      <th>CardType</th>\n",
       "      <th>Timestamp</th>\n",
       "      <th>Merchant</th>\n",
       "      <th>Location</th>\n",
       "      <th>DeviceType</th>\n",
       "      <th>IsFraud</th>\n",
       "    </tr>\n",
       "  </thead>\n",
       "  <tbody>\n",
       "    <tr>\n",
       "      <th>0</th>\n",
       "      <td>b5919729-a91c-4c5a-91be-08a85becfad7</td>\n",
       "      <td>U3635</td>\n",
       "      <td>206.38</td>\n",
       "      <td>swipe</td>\n",
       "      <td>NaN</td>\n",
       "      <td>2025-01-12T08:15:17</td>\n",
       "      <td>NaN</td>\n",
       "      <td>NaN</td>\n",
       "      <td>desktop</td>\n",
       "      <td>0</td>\n",
       "    </tr>\n",
       "    <tr>\n",
       "      <th>1</th>\n",
       "      <td>afd95224-b1af-42af-a695-8e62532fa7cf</td>\n",
       "      <td>U1694</td>\n",
       "      <td>73.02</td>\n",
       "      <td>ATM</td>\n",
       "      <td>Credit</td>\n",
       "      <td>2025-02-11T13:49:48</td>\n",
       "      <td>NaN</td>\n",
       "      <td>NaN</td>\n",
       "      <td>dsk</td>\n",
       "      <td>0</td>\n",
       "    </tr>\n",
       "    <tr>\n",
       "      <th>2</th>\n",
       "      <td>48ee2912-af4c-487a-bbcd-7ad080f04860</td>\n",
       "      <td>U6928</td>\n",
       "      <td>75.75</td>\n",
       "      <td>ATM</td>\n",
       "      <td>credit</td>\n",
       "      <td>2025-02-24T01:34:19</td>\n",
       "      <td>NaN</td>\n",
       "      <td>NaN</td>\n",
       "      <td>Mobile</td>\n",
       "      <td>0</td>\n",
       "    </tr>\n",
       "    <tr>\n",
       "      <th>3</th>\n",
       "      <td>b6ef8291-0006-453b-9ba9-98e2fc7fe4e2</td>\n",
       "      <td>U9552</td>\n",
       "      <td>3.87</td>\n",
       "      <td>swpie</td>\n",
       "      <td>dbit</td>\n",
       "      <td>2025-01-01T10:01:01</td>\n",
       "      <td>NaN</td>\n",
       "      <td>NaN</td>\n",
       "      <td>mobile</td>\n",
       "      <td>0</td>\n",
       "    </tr>\n",
       "    <tr>\n",
       "      <th>4</th>\n",
       "      <td>3c0cfdb7-a829-4ce9-9c2b-1d7a1a65f152</td>\n",
       "      <td>U8242</td>\n",
       "      <td>130.77</td>\n",
       "      <td>atm</td>\n",
       "      <td>debit</td>\n",
       "      <td>2025-01-17T13:20:40</td>\n",
       "      <td>Stewart-Larsen</td>\n",
       "      <td>NaN</td>\n",
       "      <td>mobile</td>\n",
       "      <td>0</td>\n",
       "    </tr>\n",
       "    <tr>\n",
       "      <th>...</th>\n",
       "      <td>...</td>\n",
       "      <td>...</td>\n",
       "      <td>...</td>\n",
       "      <td>...</td>\n",
       "      <td>...</td>\n",
       "      <td>...</td>\n",
       "      <td>...</td>\n",
       "      <td>...</td>\n",
       "      <td>...</td>\n",
       "      <td>...</td>\n",
       "    </tr>\n",
       "    <tr>\n",
       "      <th>30295</th>\n",
       "      <td>07c96a02-8834-4a5f-ad04-48540af89baa</td>\n",
       "      <td>U7260</td>\n",
       "      <td>108.25</td>\n",
       "      <td>online</td>\n",
       "      <td>Credit</td>\n",
       "      <td>2025-01-22T00:56:24</td>\n",
       "      <td>NaN</td>\n",
       "      <td>New Jessicaport</td>\n",
       "      <td>Mobile</td>\n",
       "      <td>0</td>\n",
       "    </tr>\n",
       "    <tr>\n",
       "      <th>30296</th>\n",
       "      <td>a1a3e49a-8eef-4671-befe-959aeeb46bab</td>\n",
       "      <td>U9988</td>\n",
       "      <td>20.59</td>\n",
       "      <td>swipe</td>\n",
       "      <td>dbit</td>\n",
       "      <td>2025-02-06T20:11:48</td>\n",
       "      <td>Pratt Group</td>\n",
       "      <td>Ricehaven</td>\n",
       "      <td>tablet</td>\n",
       "      <td>0</td>\n",
       "    </tr>\n",
       "    <tr>\n",
       "      <th>30297</th>\n",
       "      <td>88f65d46-01ed-4d8e-8a5e-444053eb03ff</td>\n",
       "      <td>U2544</td>\n",
       "      <td>54.79</td>\n",
       "      <td>online</td>\n",
       "      <td>dbit</td>\n",
       "      <td>2025-04-09T08:37:42</td>\n",
       "      <td>NaN</td>\n",
       "      <td>NaN</td>\n",
       "      <td>dsk</td>\n",
       "      <td>0</td>\n",
       "    </tr>\n",
       "    <tr>\n",
       "      <th>30298</th>\n",
       "      <td>2152b6c1-3b92-48ac-a1e9-b141999c4c94</td>\n",
       "      <td>U1993</td>\n",
       "      <td>26.60</td>\n",
       "      <td>ATM</td>\n",
       "      <td>Credit</td>\n",
       "      <td>2025-02-11T00:57:28</td>\n",
       "      <td>NaN</td>\n",
       "      <td>Jillianton</td>\n",
       "      <td>dsk</td>\n",
       "      <td>0</td>\n",
       "    </tr>\n",
       "    <tr>\n",
       "      <th>30299</th>\n",
       "      <td>a00955e9-03dc-4ae7-a629-90ddb4efa154</td>\n",
       "      <td>U8653</td>\n",
       "      <td>217.04</td>\n",
       "      <td>swipe</td>\n",
       "      <td>Debit</td>\n",
       "      <td>2025-01-19T07:44:23</td>\n",
       "      <td>Jones PLC</td>\n",
       "      <td>NaN</td>\n",
       "      <td>tablet</td>\n",
       "      <td>0</td>\n",
       "    </tr>\n",
       "  </tbody>\n",
       "</table>\n",
       "<p>30300 rows × 10 columns</p>\n",
       "</div>"
      ],
      "text/plain": [
       "                              TransactionID UserID  TransactionAmount  \\\n",
       "0      b5919729-a91c-4c5a-91be-08a85becfad7  U3635             206.38   \n",
       "1      afd95224-b1af-42af-a695-8e62532fa7cf  U1694              73.02   \n",
       "2      48ee2912-af4c-487a-bbcd-7ad080f04860  U6928              75.75   \n",
       "3      b6ef8291-0006-453b-9ba9-98e2fc7fe4e2  U9552               3.87   \n",
       "4      3c0cfdb7-a829-4ce9-9c2b-1d7a1a65f152  U8242             130.77   \n",
       "...                                     ...    ...                ...   \n",
       "30295  07c96a02-8834-4a5f-ad04-48540af89baa  U7260             108.25   \n",
       "30296  a1a3e49a-8eef-4671-befe-959aeeb46bab  U9988              20.59   \n",
       "30297  88f65d46-01ed-4d8e-8a5e-444053eb03ff  U2544              54.79   \n",
       "30298  2152b6c1-3b92-48ac-a1e9-b141999c4c94  U1993              26.60   \n",
       "30299  a00955e9-03dc-4ae7-a629-90ddb4efa154  U8653             217.04   \n",
       "\n",
       "      TransactionType CardType            Timestamp        Merchant  \\\n",
       "0               swipe      NaN  2025-01-12T08:15:17             NaN   \n",
       "1                 ATM   Credit  2025-02-11T13:49:48             NaN   \n",
       "2                 ATM   credit  2025-02-24T01:34:19             NaN   \n",
       "3               swpie     dbit  2025-01-01T10:01:01             NaN   \n",
       "4                 atm    debit  2025-01-17T13:20:40  Stewart-Larsen   \n",
       "...               ...      ...                  ...             ...   \n",
       "30295          online   Credit  2025-01-22T00:56:24             NaN   \n",
       "30296           swipe     dbit  2025-02-06T20:11:48     Pratt Group   \n",
       "30297          online     dbit  2025-04-09T08:37:42             NaN   \n",
       "30298             ATM   Credit  2025-02-11T00:57:28             NaN   \n",
       "30299           swipe    Debit  2025-01-19T07:44:23       Jones PLC   \n",
       "\n",
       "              Location DeviceType  IsFraud  \n",
       "0                  NaN    desktop        0  \n",
       "1                  NaN        dsk        0  \n",
       "2                  NaN     Mobile        0  \n",
       "3                  NaN     mobile        0  \n",
       "4                  NaN     mobile        0  \n",
       "...                ...        ...      ...  \n",
       "30295  New Jessicaport     Mobile        0  \n",
       "30296        Ricehaven     tablet        0  \n",
       "30297              NaN        dsk        0  \n",
       "30298       Jillianton        dsk        0  \n",
       "30299              NaN     tablet        0  \n",
       "\n",
       "[30300 rows x 10 columns]"
      ]
     },
     "execution_count": 4,
     "metadata": {},
     "output_type": "execute_result"
    }
   ],
   "source": [
    "df"
   ]
  },
  {
   "cell_type": "code",
   "execution_count": 5,
   "id": "a83dc925",
   "metadata": {},
   "outputs": [
    {
     "data": {
      "text/plain": [
       "(30300, 10)"
      ]
     },
     "execution_count": 5,
     "metadata": {},
     "output_type": "execute_result"
    }
   ],
   "source": [
    "df.shape"
   ]
  },
  {
   "cell_type": "code",
   "execution_count": 6,
   "id": "dc97e6a1",
   "metadata": {},
   "outputs": [
    {
     "name": "stdout",
     "output_type": "stream",
     "text": [
      "<class 'pandas.core.frame.DataFrame'>\n",
      "RangeIndex: 30300 entries, 0 to 30299\n",
      "Data columns (total 10 columns):\n",
      " #   Column             Non-Null Count  Dtype  \n",
      "---  ------             --------------  -----  \n",
      " 0   TransactionID      30300 non-null  object \n",
      " 1   UserID             30300 non-null  object \n",
      " 2   TransactionAmount  28785 non-null  float64\n",
      " 3   TransactionType    28783 non-null  object \n",
      " 4   CardType           28792 non-null  object \n",
      " 5   Timestamp          30300 non-null  object \n",
      " 6   Merchant           20281 non-null  object \n",
      " 7   Location           14980 non-null  object \n",
      " 8   DeviceType         25217 non-null  object \n",
      " 9   IsFraud            30300 non-null  int64  \n",
      "dtypes: float64(1), int64(1), object(8)\n",
      "memory usage: 2.3+ MB\n"
     ]
    }
   ],
   "source": [
    "df.info()"
   ]
  },
  {
   "cell_type": "code",
   "execution_count": 7,
   "id": "e290c216",
   "metadata": {},
   "outputs": [
    {
     "data": {
      "text/plain": [
       "TransactionID            0\n",
       "UserID                   0\n",
       "TransactionAmount     1515\n",
       "TransactionType       1517\n",
       "CardType              1508\n",
       "Timestamp                0\n",
       "Merchant             10019\n",
       "Location             15320\n",
       "DeviceType            5083\n",
       "IsFraud                  0\n",
       "dtype: int64"
      ]
     },
     "execution_count": 7,
     "metadata": {},
     "output_type": "execute_result"
    }
   ],
   "source": [
    "df.isnull().sum()"
   ]
  },
  {
   "cell_type": "code",
   "execution_count": 8,
   "id": "ef33464f",
   "metadata": {},
   "outputs": [
    {
     "data": {
      "text/plain": [
       "IsFraud\n",
       "0    29821\n",
       "1      479\n",
       "Name: count, dtype: int64"
      ]
     },
     "execution_count": 8,
     "metadata": {},
     "output_type": "execute_result"
    }
   ],
   "source": [
    "df['IsFraud'].value_counts()"
   ]
  },
  {
   "cell_type": "code",
   "execution_count": 9,
   "id": "2a73d1aa",
   "metadata": {},
   "outputs": [
    {
     "data": {
      "text/plain": [
       "Merchant\n",
       "Smith Inc                    28\n",
       "Williams Ltd                 27\n",
       "Johnson Inc                  24\n",
       "Smith and Sons               24\n",
       "Brown Group                  23\n",
       "                             ..\n",
       "Bennett-Jones                 1\n",
       "Fisher, Smith and Wells       1\n",
       "Schwartz, Webb and Thomas     1\n",
       "Brady, White and Gonzales     1\n",
       "Jennings-Rivera               1\n",
       "Name: count, Length: 16306, dtype: int64"
      ]
     },
     "execution_count": 9,
     "metadata": {},
     "output_type": "execute_result"
    }
   ],
   "source": [
    "df['Merchant'].value_counts()"
   ]
  },
  {
   "cell_type": "markdown",
   "id": "bbc3518d",
   "metadata": {},
   "source": [
    "# 🧭 Step 2: Get Specific About the Missing Data\n",
    "Hint:\n",
    "Start answering questions like:\n",
    "\n",
    "1. How many missing values in each column?\n",
    "\n",
    "2. What percentage of values are missing?\n",
    "\n",
    "3. Which columns are the dirtiest?\n",
    "\n",
    "4. Are there rows where too many things are missing?"
   ]
  },
  {
   "cell_type": "code",
   "execution_count": 10,
   "id": "91a2814f",
   "metadata": {},
   "outputs": [
    {
     "data": {
      "text/plain": [
       "TransactionID         0.000000\n",
       "UserID                0.000000\n",
       "TransactionAmount     5.000000\n",
       "TransactionType       5.006601\n",
       "CardType              4.976898\n",
       "Timestamp             0.000000\n",
       "Merchant             33.066007\n",
       "Location             50.561056\n",
       "DeviceType           16.775578\n",
       "IsFraud               0.000000\n",
       "dtype: float64"
      ]
     },
     "execution_count": 10,
     "metadata": {},
     "output_type": "execute_result"
    }
   ],
   "source": [
    "(df.isna().mean() * 100)"
   ]
  },
  {
   "cell_type": "code",
   "execution_count": 11,
   "id": "c1ab6214",
   "metadata": {},
   "outputs": [
    {
     "data": {
      "text/plain": [
       "29446    6\n",
       "16986    5\n",
       "27497    5\n",
       "880      5\n",
       "27788    5\n",
       "16029    4\n",
       "18989    4\n",
       "5272     4\n",
       "19276    4\n",
       "25651    4\n",
       "dtype: int64"
      ]
     },
     "execution_count": 11,
     "metadata": {},
     "output_type": "execute_result"
    }
   ],
   "source": [
    "## it says the rows with maximum missing columns\n",
    "df.isnull().sum(axis=1).sort_values(ascending=False).head(10)"
   ]
  },
  {
   "cell_type": "markdown",
   "id": "e0e3c4cb",
   "metadata": {},
   "source": [
    "# 🧭 Step 3: Plan Your Cleaning Strategy (Column-Wise)\n",
    "Hint:\n",
    "Now that you know which columns and rows are messy — ask yourself:\n",
    "\n",
    "🔍 For each dirty column:\n",
    "1. Is it important for ML? (e.g., TransactionAmount, CardType)\n",
    "\n",
    "2.  Can missing values be filled?\n",
    "\n",
    "    Mean/median for numerical\n",
    "\n",
    "    Mode for categorical\n",
    "\n",
    "    \"Unknown\"/\"Other\" if the category isn't important\n",
    "\n",
    "    Or should it be dropped? (if too many missing or not useful)\n",
    "\n",
    "3. 🔍 For dirty rows:\n",
    "    If only 1–2 columns are missing, maybe fill them.\n",
    "\n",
    "    If 4–5+ columns are missing, maybe drop the row."
   ]
  },
  {
   "cell_type": "code",
   "execution_count": 12,
   "id": "5d32723a",
   "metadata": {},
   "outputs": [
    {
     "data": {
      "text/plain": [
       "1515"
      ]
     },
     "execution_count": 12,
     "metadata": {},
     "output_type": "execute_result"
    }
   ],
   "source": [
    "## TRANSACTION AMOUNT\n",
    "\n",
    "df['TransactionAmount'].isnull().sum()"
   ]
  },
  {
   "cell_type": "code",
   "execution_count": 13,
   "id": "421d6a5f",
   "metadata": {},
   "outputs": [
    {
     "data": {
      "text/plain": [
       "count    28785.000000\n",
       "mean        99.750133\n",
       "std         99.833057\n",
       "min          0.000000\n",
       "25%         28.930000\n",
       "50%         69.400000\n",
       "75%        137.690000\n",
       "max        949.570000\n",
       "Name: TransactionAmount, dtype: float64"
      ]
     },
     "execution_count": 13,
     "metadata": {},
     "output_type": "execute_result"
    }
   ],
   "source": [
    "df['TransactionAmount'].describe()"
   ]
  },
  {
   "cell_type": "code",
   "execution_count": 14,
   "id": "a917e866",
   "metadata": {},
   "outputs": [
    {
     "data": {
      "text/plain": [
       "TransactionID        25\n",
       "UserID               25\n",
       "TransactionAmount    25\n",
       "TransactionType      23\n",
       "CardType             24\n",
       "Timestamp            25\n",
       "Merchant             16\n",
       "Location             15\n",
       "DeviceType           20\n",
       "IsFraud              25\n",
       "dtype: int64"
      ]
     },
     "execution_count": 14,
     "metadata": {},
     "output_type": "execute_result"
    }
   ],
   "source": [
    "df[df['TransactionAmount']>700].count()\n",
    "## it means there are outliers also"
   ]
  },
  {
   "cell_type": "code",
   "execution_count": 15,
   "id": "8539ecd1",
   "metadata": {},
   "outputs": [
    {
     "name": "stderr",
     "output_type": "stream",
     "text": [
      "C:\\Users\\harsh\\AppData\\Local\\Temp\\ipykernel_5944\\1464303302.py:3: FutureWarning: A value is trying to be set on a copy of a DataFrame or Series through chained assignment using an inplace method.\n",
      "The behavior will change in pandas 3.0. This inplace method will never work because the intermediate object on which we are setting values always behaves as a copy.\n",
      "\n",
      "For example, when doing 'df[col].method(value, inplace=True)', try using 'df.method({col: value}, inplace=True)' or df[col] = df[col].method(value) instead, to perform the operation inplace on the original object.\n",
      "\n",
      "\n",
      "  df['TransactionAmount'].fillna(median_value, inplace=True)\n"
     ]
    }
   ],
   "source": [
    "## we fill missing values with median due to outliers\n",
    "median_value = df['TransactionAmount'].median()\n",
    "df['TransactionAmount'].fillna(median_value, inplace=True)"
   ]
  },
  {
   "cell_type": "code",
   "execution_count": 16,
   "id": "466f2f27",
   "metadata": {},
   "outputs": [
    {
     "data": {
      "text/plain": [
       "TransactionType\n",
       "ATM       4937\n",
       "Onlne     4901\n",
       "atm       4824\n",
       "online    4771\n",
       "swipe     4681\n",
       "swpie     4669\n",
       "Name: count, dtype: int64"
      ]
     },
     "execution_count": 16,
     "metadata": {},
     "output_type": "execute_result"
    }
   ],
   "source": [
    "## Transaction Type\n",
    "\n",
    "df['TransactionType'].value_counts()\n"
   ]
  },
  {
   "cell_type": "code",
   "execution_count": 17,
   "id": "483d30f4",
   "metadata": {},
   "outputs": [],
   "source": [
    "#change ATM to atm\n",
    "#change swpie to swipe\n",
    "#change Onlne to online\n",
    "\n",
    "df['TransactionType'] = df['TransactionType'].replace('ATM', 'atm')\n",
    "df['TransactionType'] = df['TransactionType'].replace('swpie', 'swipe')\n",
    "df['TransactionType'] = df['TransactionType'].replace('Onlne', 'online')"
   ]
  },
  {
   "cell_type": "code",
   "execution_count": 18,
   "id": "de428c30",
   "metadata": {},
   "outputs": [
    {
     "data": {
      "text/plain": [
       "TransactionType\n",
       "atm       9761\n",
       "online    9672\n",
       "swipe     9350\n",
       "Name: count, dtype: int64"
      ]
     },
     "execution_count": 18,
     "metadata": {},
     "output_type": "execute_result"
    }
   ],
   "source": [
    "df['TransactionType'].value_counts()"
   ]
  },
  {
   "cell_type": "code",
   "execution_count": 19,
   "id": "80604488",
   "metadata": {},
   "outputs": [],
   "source": [
    "df['TransactionType']=df['TransactionType'].fillna('missing')"
   ]
  },
  {
   "cell_type": "code",
   "execution_count": 20,
   "id": "992c600a",
   "metadata": {},
   "outputs": [
    {
     "data": {
      "text/plain": [
       "CardType\n",
       "credit    4841\n",
       "Debit     4837\n",
       "debit     4823\n",
       "dbit      4822\n",
       "credt     4773\n",
       "Credit    4696\n",
       "Name: count, dtype: int64"
      ]
     },
     "execution_count": 20,
     "metadata": {},
     "output_type": "execute_result"
    }
   ],
   "source": [
    "df['CardType'].value_counts()"
   ]
  },
  {
   "cell_type": "code",
   "execution_count": 21,
   "id": "c197c203",
   "metadata": {},
   "outputs": [],
   "source": [
    "## change all names in credit and debit\n",
    "\n",
    "df['CardType'] = df['CardType'].replace(['Credit','credt'], 'online')\n",
    "df['CardType'] = df['CardType'].replace(['Debit','dbit'], 'debit')"
   ]
  },
  {
   "cell_type": "code",
   "execution_count": 22,
   "id": "51a880d6",
   "metadata": {},
   "outputs": [
    {
     "data": {
      "text/plain": [
       "CardType\n",
       "debit     14482\n",
       "online     9469\n",
       "credit     4841\n",
       "Name: count, dtype: int64"
      ]
     },
     "execution_count": 22,
     "metadata": {},
     "output_type": "execute_result"
    }
   ],
   "source": [
    "df['CardType'].value_counts()\n"
   ]
  },
  {
   "cell_type": "code",
   "execution_count": 23,
   "id": "d6e034ae",
   "metadata": {},
   "outputs": [
    {
     "data": {
      "text/plain": [
       "CardType\n",
       "debit     14482\n",
       "online     9469\n",
       "credit     4841\n",
       "Name: count, dtype: int64"
      ]
     },
     "execution_count": 23,
     "metadata": {},
     "output_type": "execute_result"
    }
   ],
   "source": [
    "df['CardType'].value_counts()"
   ]
  },
  {
   "cell_type": "code",
   "execution_count": 24,
   "id": "5d6d4376",
   "metadata": {},
   "outputs": [
    {
     "data": {
      "text/plain": [
       "1508"
      ]
     },
     "execution_count": 24,
     "metadata": {},
     "output_type": "execute_result"
    }
   ],
   "source": [
    "df['CardType'].isna().sum()"
   ]
  },
  {
   "cell_type": "code",
   "execution_count": 25,
   "id": "e9057c85",
   "metadata": {},
   "outputs": [
    {
     "data": {
      "text/plain": [
       "CardType\n",
       "debit     14482\n",
       "online     9469\n",
       "credit     4841\n",
       "Name: count, dtype: int64"
      ]
     },
     "execution_count": 25,
     "metadata": {},
     "output_type": "execute_result"
    }
   ],
   "source": [
    "df['CardType'].value_counts()"
   ]
  },
  {
   "cell_type": "code",
   "execution_count": 26,
   "id": "ce2011e1",
   "metadata": {},
   "outputs": [],
   "source": [
    "df['CardType']=df['CardType'].fillna(df['CardType'].mode()[0])"
   ]
  },
  {
   "cell_type": "code",
   "execution_count": 27,
   "id": "b75d8745",
   "metadata": {},
   "outputs": [
    {
     "data": {
      "text/plain": [
       "CardType\n",
       "debit     15990\n",
       "online     9469\n",
       "credit     4841\n",
       "Name: count, dtype: int64"
      ]
     },
     "execution_count": 27,
     "metadata": {},
     "output_type": "execute_result"
    }
   ],
   "source": [
    "df['CardType'].value_counts()"
   ]
  },
  {
   "cell_type": "code",
   "execution_count": 28,
   "id": "f334be17",
   "metadata": {},
   "outputs": [
    {
     "data": {
      "text/html": [
       "<div>\n",
       "<style scoped>\n",
       "    .dataframe tbody tr th:only-of-type {\n",
       "        vertical-align: middle;\n",
       "    }\n",
       "\n",
       "    .dataframe tbody tr th {\n",
       "        vertical-align: top;\n",
       "    }\n",
       "\n",
       "    .dataframe thead th {\n",
       "        text-align: right;\n",
       "    }\n",
       "</style>\n",
       "<table border=\"1\" class=\"dataframe\">\n",
       "  <thead>\n",
       "    <tr style=\"text-align: right;\">\n",
       "      <th></th>\n",
       "      <th>TransactionID</th>\n",
       "      <th>UserID</th>\n",
       "      <th>TransactionAmount</th>\n",
       "      <th>TransactionType</th>\n",
       "      <th>CardType</th>\n",
       "      <th>Timestamp</th>\n",
       "      <th>Merchant</th>\n",
       "      <th>Location</th>\n",
       "      <th>DeviceType</th>\n",
       "      <th>IsFraud</th>\n",
       "    </tr>\n",
       "  </thead>\n",
       "  <tbody>\n",
       "    <tr>\n",
       "      <th>0</th>\n",
       "      <td>b5919729-a91c-4c5a-91be-08a85becfad7</td>\n",
       "      <td>U3635</td>\n",
       "      <td>206.38</td>\n",
       "      <td>swipe</td>\n",
       "      <td>debit</td>\n",
       "      <td>2025-01-12T08:15:17</td>\n",
       "      <td>NaN</td>\n",
       "      <td>NaN</td>\n",
       "      <td>desktop</td>\n",
       "      <td>0</td>\n",
       "    </tr>\n",
       "    <tr>\n",
       "      <th>1</th>\n",
       "      <td>afd95224-b1af-42af-a695-8e62532fa7cf</td>\n",
       "      <td>U1694</td>\n",
       "      <td>73.02</td>\n",
       "      <td>atm</td>\n",
       "      <td>online</td>\n",
       "      <td>2025-02-11T13:49:48</td>\n",
       "      <td>NaN</td>\n",
       "      <td>NaN</td>\n",
       "      <td>dsk</td>\n",
       "      <td>0</td>\n",
       "    </tr>\n",
       "    <tr>\n",
       "      <th>2</th>\n",
       "      <td>48ee2912-af4c-487a-bbcd-7ad080f04860</td>\n",
       "      <td>U6928</td>\n",
       "      <td>75.75</td>\n",
       "      <td>atm</td>\n",
       "      <td>credit</td>\n",
       "      <td>2025-02-24T01:34:19</td>\n",
       "      <td>NaN</td>\n",
       "      <td>NaN</td>\n",
       "      <td>Mobile</td>\n",
       "      <td>0</td>\n",
       "    </tr>\n",
       "    <tr>\n",
       "      <th>3</th>\n",
       "      <td>b6ef8291-0006-453b-9ba9-98e2fc7fe4e2</td>\n",
       "      <td>U9552</td>\n",
       "      <td>3.87</td>\n",
       "      <td>swipe</td>\n",
       "      <td>debit</td>\n",
       "      <td>2025-01-01T10:01:01</td>\n",
       "      <td>NaN</td>\n",
       "      <td>NaN</td>\n",
       "      <td>mobile</td>\n",
       "      <td>0</td>\n",
       "    </tr>\n",
       "    <tr>\n",
       "      <th>4</th>\n",
       "      <td>3c0cfdb7-a829-4ce9-9c2b-1d7a1a65f152</td>\n",
       "      <td>U8242</td>\n",
       "      <td>130.77</td>\n",
       "      <td>atm</td>\n",
       "      <td>debit</td>\n",
       "      <td>2025-01-17T13:20:40</td>\n",
       "      <td>Stewart-Larsen</td>\n",
       "      <td>NaN</td>\n",
       "      <td>mobile</td>\n",
       "      <td>0</td>\n",
       "    </tr>\n",
       "  </tbody>\n",
       "</table>\n",
       "</div>"
      ],
      "text/plain": [
       "                          TransactionID UserID  TransactionAmount  \\\n",
       "0  b5919729-a91c-4c5a-91be-08a85becfad7  U3635             206.38   \n",
       "1  afd95224-b1af-42af-a695-8e62532fa7cf  U1694              73.02   \n",
       "2  48ee2912-af4c-487a-bbcd-7ad080f04860  U6928              75.75   \n",
       "3  b6ef8291-0006-453b-9ba9-98e2fc7fe4e2  U9552               3.87   \n",
       "4  3c0cfdb7-a829-4ce9-9c2b-1d7a1a65f152  U8242             130.77   \n",
       "\n",
       "  TransactionType CardType            Timestamp        Merchant Location  \\\n",
       "0           swipe    debit  2025-01-12T08:15:17             NaN      NaN   \n",
       "1             atm   online  2025-02-11T13:49:48             NaN      NaN   \n",
       "2             atm   credit  2025-02-24T01:34:19             NaN      NaN   \n",
       "3           swipe    debit  2025-01-01T10:01:01             NaN      NaN   \n",
       "4             atm    debit  2025-01-17T13:20:40  Stewart-Larsen      NaN   \n",
       "\n",
       "  DeviceType  IsFraud  \n",
       "0    desktop        0  \n",
       "1        dsk        0  \n",
       "2     Mobile        0  \n",
       "3     mobile        0  \n",
       "4     mobile        0  "
      ]
     },
     "execution_count": 28,
     "metadata": {},
     "output_type": "execute_result"
    }
   ],
   "source": [
    "df.head()"
   ]
  },
  {
   "cell_type": "code",
   "execution_count": 29,
   "id": "42f32837",
   "metadata": {},
   "outputs": [
    {
     "data": {
      "text/plain": [
       "10019"
      ]
     },
     "execution_count": 29,
     "metadata": {},
     "output_type": "execute_result"
    }
   ],
   "source": [
    "df['Merchant'].isna().sum()"
   ]
  },
  {
   "cell_type": "code",
   "execution_count": 30,
   "id": "cfbd13df",
   "metadata": {},
   "outputs": [],
   "source": [
    "df.fillna({'Merchant':'unknown_merchant'},inplace=True)\n",
    "\n",
    "# df['Merchant']=df['Merchant'].fillna('unknown_merchant')"
   ]
  },
  {
   "cell_type": "code",
   "execution_count": 31,
   "id": "3d9091de",
   "metadata": {},
   "outputs": [
    {
     "data": {
      "text/html": [
       "<div>\n",
       "<style scoped>\n",
       "    .dataframe tbody tr th:only-of-type {\n",
       "        vertical-align: middle;\n",
       "    }\n",
       "\n",
       "    .dataframe tbody tr th {\n",
       "        vertical-align: top;\n",
       "    }\n",
       "\n",
       "    .dataframe thead th {\n",
       "        text-align: right;\n",
       "    }\n",
       "</style>\n",
       "<table border=\"1\" class=\"dataframe\">\n",
       "  <thead>\n",
       "    <tr style=\"text-align: right;\">\n",
       "      <th></th>\n",
       "      <th>TransactionID</th>\n",
       "      <th>UserID</th>\n",
       "      <th>TransactionAmount</th>\n",
       "      <th>TransactionType</th>\n",
       "      <th>CardType</th>\n",
       "      <th>Timestamp</th>\n",
       "      <th>Merchant</th>\n",
       "      <th>Location</th>\n",
       "      <th>DeviceType</th>\n",
       "      <th>IsFraud</th>\n",
       "    </tr>\n",
       "  </thead>\n",
       "  <tbody>\n",
       "    <tr>\n",
       "      <th>0</th>\n",
       "      <td>b5919729-a91c-4c5a-91be-08a85becfad7</td>\n",
       "      <td>U3635</td>\n",
       "      <td>206.38</td>\n",
       "      <td>swipe</td>\n",
       "      <td>debit</td>\n",
       "      <td>2025-01-12T08:15:17</td>\n",
       "      <td>unknown_merchant</td>\n",
       "      <td>NaN</td>\n",
       "      <td>desktop</td>\n",
       "      <td>0</td>\n",
       "    </tr>\n",
       "    <tr>\n",
       "      <th>1</th>\n",
       "      <td>afd95224-b1af-42af-a695-8e62532fa7cf</td>\n",
       "      <td>U1694</td>\n",
       "      <td>73.02</td>\n",
       "      <td>atm</td>\n",
       "      <td>online</td>\n",
       "      <td>2025-02-11T13:49:48</td>\n",
       "      <td>unknown_merchant</td>\n",
       "      <td>NaN</td>\n",
       "      <td>dsk</td>\n",
       "      <td>0</td>\n",
       "    </tr>\n",
       "    <tr>\n",
       "      <th>2</th>\n",
       "      <td>48ee2912-af4c-487a-bbcd-7ad080f04860</td>\n",
       "      <td>U6928</td>\n",
       "      <td>75.75</td>\n",
       "      <td>atm</td>\n",
       "      <td>credit</td>\n",
       "      <td>2025-02-24T01:34:19</td>\n",
       "      <td>unknown_merchant</td>\n",
       "      <td>NaN</td>\n",
       "      <td>Mobile</td>\n",
       "      <td>0</td>\n",
       "    </tr>\n",
       "    <tr>\n",
       "      <th>3</th>\n",
       "      <td>b6ef8291-0006-453b-9ba9-98e2fc7fe4e2</td>\n",
       "      <td>U9552</td>\n",
       "      <td>3.87</td>\n",
       "      <td>swipe</td>\n",
       "      <td>debit</td>\n",
       "      <td>2025-01-01T10:01:01</td>\n",
       "      <td>unknown_merchant</td>\n",
       "      <td>NaN</td>\n",
       "      <td>mobile</td>\n",
       "      <td>0</td>\n",
       "    </tr>\n",
       "    <tr>\n",
       "      <th>4</th>\n",
       "      <td>3c0cfdb7-a829-4ce9-9c2b-1d7a1a65f152</td>\n",
       "      <td>U8242</td>\n",
       "      <td>130.77</td>\n",
       "      <td>atm</td>\n",
       "      <td>debit</td>\n",
       "      <td>2025-01-17T13:20:40</td>\n",
       "      <td>Stewart-Larsen</td>\n",
       "      <td>NaN</td>\n",
       "      <td>mobile</td>\n",
       "      <td>0</td>\n",
       "    </tr>\n",
       "  </tbody>\n",
       "</table>\n",
       "</div>"
      ],
      "text/plain": [
       "                          TransactionID UserID  TransactionAmount  \\\n",
       "0  b5919729-a91c-4c5a-91be-08a85becfad7  U3635             206.38   \n",
       "1  afd95224-b1af-42af-a695-8e62532fa7cf  U1694              73.02   \n",
       "2  48ee2912-af4c-487a-bbcd-7ad080f04860  U6928              75.75   \n",
       "3  b6ef8291-0006-453b-9ba9-98e2fc7fe4e2  U9552               3.87   \n",
       "4  3c0cfdb7-a829-4ce9-9c2b-1d7a1a65f152  U8242             130.77   \n",
       "\n",
       "  TransactionType CardType            Timestamp          Merchant Location  \\\n",
       "0           swipe    debit  2025-01-12T08:15:17  unknown_merchant      NaN   \n",
       "1             atm   online  2025-02-11T13:49:48  unknown_merchant      NaN   \n",
       "2             atm   credit  2025-02-24T01:34:19  unknown_merchant      NaN   \n",
       "3           swipe    debit  2025-01-01T10:01:01  unknown_merchant      NaN   \n",
       "4             atm    debit  2025-01-17T13:20:40    Stewart-Larsen      NaN   \n",
       "\n",
       "  DeviceType  IsFraud  \n",
       "0    desktop        0  \n",
       "1        dsk        0  \n",
       "2     Mobile        0  \n",
       "3     mobile        0  \n",
       "4     mobile        0  "
      ]
     },
     "execution_count": 31,
     "metadata": {},
     "output_type": "execute_result"
    }
   ],
   "source": [
    "df.head()"
   ]
  },
  {
   "cell_type": "code",
   "execution_count": 32,
   "id": "e0fa55ea",
   "metadata": {},
   "outputs": [
    {
     "data": {
      "text/plain": [
       "DeviceType\n",
       "Mobile     5091\n",
       "desktop    5075\n",
       "mobile     5039\n",
       "tablet     5026\n",
       "dsk        4986\n",
       "Name: count, dtype: int64"
      ]
     },
     "execution_count": 32,
     "metadata": {},
     "output_type": "execute_result"
    }
   ],
   "source": [
    "df['DeviceType'].value_counts()"
   ]
  },
  {
   "cell_type": "code",
   "execution_count": 33,
   "id": "a5edc06c",
   "metadata": {},
   "outputs": [],
   "source": [
    "# change some names\n",
    "\n",
    "df['DeviceType']=df['DeviceType'].replace('Mobile','mobile')\n",
    "\n",
    "df['DeviceType']=df['DeviceType'].replace('dsk','disk')"
   ]
  },
  {
   "cell_type": "code",
   "execution_count": 34,
   "id": "c6e75b80",
   "metadata": {},
   "outputs": [
    {
     "data": {
      "text/plain": [
       "DeviceType\n",
       "mobile     10130\n",
       "desktop     5075\n",
       "tablet      5026\n",
       "disk        4986\n",
       "Name: count, dtype: int64"
      ]
     },
     "execution_count": 34,
     "metadata": {},
     "output_type": "execute_result"
    }
   ],
   "source": [
    "df['DeviceType'].value_counts()"
   ]
  },
  {
   "cell_type": "code",
   "execution_count": 35,
   "id": "f516b468",
   "metadata": {},
   "outputs": [
    {
     "data": {
      "text/plain": [
       "TransactionID         0.000000\n",
       "UserID                0.000000\n",
       "TransactionAmount     0.000000\n",
       "TransactionType       0.000000\n",
       "CardType              0.000000\n",
       "Timestamp             0.000000\n",
       "Merchant              0.000000\n",
       "Location             50.561056\n",
       "DeviceType           16.775578\n",
       "IsFraud               0.000000\n",
       "dtype: float64"
      ]
     },
     "execution_count": 35,
     "metadata": {},
     "output_type": "execute_result"
    }
   ],
   "source": [
    "(df.isna().mean() * 100)"
   ]
  },
  {
   "cell_type": "code",
   "execution_count": 36,
   "id": "09f1de7e",
   "metadata": {},
   "outputs": [
    {
     "data": {
      "text/plain": [
       "0    atm\n",
       "Name: TransactionType, dtype: object"
      ]
     },
     "execution_count": 36,
     "metadata": {},
     "output_type": "execute_result"
    }
   ],
   "source": [
    "df['TransactionType'].mode()"
   ]
  },
  {
   "cell_type": "code",
   "execution_count": 37,
   "id": "fe1118da",
   "metadata": {},
   "outputs": [
    {
     "data": {
      "text/plain": [
       "Location\n",
       "North Michael      18\n",
       "South Michael      13\n",
       "North Robert       12\n",
       "North James        12\n",
       "South Brian        11\n",
       "                   ..\n",
       "Bergberg            1\n",
       "Port Ashleyside     1\n",
       "Howardfort          1\n",
       "New Davidburgh      1\n",
       "Jillianton          1\n",
       "Name: count, Length: 10544, dtype: int64"
      ]
     },
     "execution_count": 37,
     "metadata": {},
     "output_type": "execute_result"
    }
   ],
   "source": [
    "df['Location'].value_counts()"
   ]
  },
  {
   "cell_type": "code",
   "execution_count": 38,
   "id": "498fe933",
   "metadata": {},
   "outputs": [
    {
     "name": "stdout",
     "output_type": "stream",
     "text": [
      "Entropy: 13.112177851621414\n"
     ]
    }
   ],
   "source": [
    "from scipy.stats import entropy\n",
    "\n",
    "counts = df['Location'].value_counts(normalize=True)\n",
    "entropy_val = entropy(counts, base=2)\n",
    "print(\"Entropy:\", entropy_val)\n"
   ]
  },
  {
   "cell_type": "code",
   "execution_count": 39,
   "id": "ebc7fe5f",
   "metadata": {},
   "outputs": [],
   "source": [
    "df2=df.copy()"
   ]
  },
  {
   "cell_type": "code",
   "execution_count": 40,
   "id": "6f5dc408",
   "metadata": {},
   "outputs": [
    {
     "data": {
      "text/plain": [
       "DeviceType\n",
       "mobile     10130\n",
       "desktop     5075\n",
       "tablet      5026\n",
       "disk        4986\n",
       "Name: count, dtype: int64"
      ]
     },
     "execution_count": 40,
     "metadata": {},
     "output_type": "execute_result"
    }
   ],
   "source": [
    "df['DeviceType'].value_counts()"
   ]
  },
  {
   "cell_type": "code",
   "execution_count": 41,
   "id": "1bb521f2",
   "metadata": {},
   "outputs": [],
   "source": [
    "## filling missing values ith other \n",
    "\n",
    "df['DeviceType']=df['DeviceType'].fillna('Other')"
   ]
  },
  {
   "cell_type": "code",
   "execution_count": 42,
   "id": "d631e5f3",
   "metadata": {},
   "outputs": [
    {
     "name": "stdout",
     "output_type": "stream",
     "text": [
      "<class 'pandas.core.frame.DataFrame'>\n",
      "RangeIndex: 30300 entries, 0 to 30299\n",
      "Data columns (total 10 columns):\n",
      " #   Column             Non-Null Count  Dtype  \n",
      "---  ------             --------------  -----  \n",
      " 0   TransactionID      30300 non-null  object \n",
      " 1   UserID             30300 non-null  object \n",
      " 2   TransactionAmount  30300 non-null  float64\n",
      " 3   TransactionType    30300 non-null  object \n",
      " 4   CardType           30300 non-null  object \n",
      " 5   Timestamp          30300 non-null  object \n",
      " 6   Merchant           30300 non-null  object \n",
      " 7   Location           14980 non-null  object \n",
      " 8   DeviceType         30300 non-null  object \n",
      " 9   IsFraud            30300 non-null  int64  \n",
      "dtypes: float64(1), int64(1), object(8)\n",
      "memory usage: 2.3+ MB\n"
     ]
    }
   ],
   "source": [
    "df.info()"
   ]
  },
  {
   "cell_type": "code",
   "execution_count": 43,
   "id": "a2c4346a",
   "metadata": {},
   "outputs": [
    {
     "data": {
      "text/plain": [
       "300"
      ]
     },
     "execution_count": 43,
     "metadata": {},
     "output_type": "execute_result"
    }
   ],
   "source": [
    "df.duplicated().sum()"
   ]
  },
  {
   "cell_type": "code",
   "execution_count": 44,
   "id": "227c2ae1",
   "metadata": {},
   "outputs": [],
   "source": [
    "df.drop_duplicates(inplace=True)"
   ]
  },
  {
   "cell_type": "code",
   "execution_count": 45,
   "id": "3bb4d75a",
   "metadata": {},
   "outputs": [
    {
     "data": {
      "text/plain": [
       "(30000, 10)"
      ]
     },
     "execution_count": 45,
     "metadata": {},
     "output_type": "execute_result"
    }
   ],
   "source": [
    "df.shape"
   ]
  },
  {
   "cell_type": "code",
   "execution_count": 46,
   "id": "aa1f37ea",
   "metadata": {},
   "outputs": [
    {
     "name": "stdout",
     "output_type": "stream",
     "text": [
      "<class 'pandas.core.frame.DataFrame'>\n",
      "Index: 30000 entries, 0 to 30299\n",
      "Data columns (total 10 columns):\n",
      " #   Column             Non-Null Count  Dtype  \n",
      "---  ------             --------------  -----  \n",
      " 0   TransactionID      30000 non-null  object \n",
      " 1   UserID             30000 non-null  object \n",
      " 2   TransactionAmount  30000 non-null  float64\n",
      " 3   TransactionType    30000 non-null  object \n",
      " 4   CardType           30000 non-null  object \n",
      " 5   Timestamp          30000 non-null  object \n",
      " 6   Merchant           30000 non-null  object \n",
      " 7   Location           14840 non-null  object \n",
      " 8   DeviceType         30000 non-null  object \n",
      " 9   IsFraud            30000 non-null  int64  \n",
      "dtypes: float64(1), int64(1), object(8)\n",
      "memory usage: 2.5+ MB\n"
     ]
    }
   ],
   "source": [
    "df.info()"
   ]
  },
  {
   "cell_type": "code",
   "execution_count": 47,
   "id": "5ea8fe7d",
   "metadata": {},
   "outputs": [],
   "source": [
    "### FETCH YEAR AND MONTH FROM TIMESTAMP\n",
    "\n",
    "# Convert the 'Timestamp' column to datetime\n",
    "df['Timestamp'] = pd.to_datetime(df['Timestamp'])\n",
    "\n",
    "# Extract Year and Month\n",
    "df['Year'] = df['Timestamp'].dt.year\n",
    "df['Month'] = df['Timestamp'].dt.month\n",
    "\n"
   ]
  },
  {
   "cell_type": "code",
   "execution_count": 48,
   "id": "8c2a2c82",
   "metadata": {},
   "outputs": [],
   "source": [
    "df['Time'] = df['Timestamp'].dt.strftime('%H:%M:%S')"
   ]
  },
  {
   "cell_type": "code",
   "execution_count": 49,
   "id": "af1d58d3",
   "metadata": {},
   "outputs": [],
   "source": [
    "df.drop(columns=['Timestamp'],inplace=True)"
   ]
  },
  {
   "cell_type": "code",
   "execution_count": 50,
   "id": "84892a3c",
   "metadata": {},
   "outputs": [
    {
     "data": {
      "text/html": [
       "<div>\n",
       "<style scoped>\n",
       "    .dataframe tbody tr th:only-of-type {\n",
       "        vertical-align: middle;\n",
       "    }\n",
       "\n",
       "    .dataframe tbody tr th {\n",
       "        vertical-align: top;\n",
       "    }\n",
       "\n",
       "    .dataframe thead th {\n",
       "        text-align: right;\n",
       "    }\n",
       "</style>\n",
       "<table border=\"1\" class=\"dataframe\">\n",
       "  <thead>\n",
       "    <tr style=\"text-align: right;\">\n",
       "      <th></th>\n",
       "      <th>TransactionID</th>\n",
       "      <th>UserID</th>\n",
       "      <th>TransactionAmount</th>\n",
       "      <th>TransactionType</th>\n",
       "      <th>CardType</th>\n",
       "      <th>Merchant</th>\n",
       "      <th>Location</th>\n",
       "      <th>DeviceType</th>\n",
       "      <th>IsFraud</th>\n",
       "      <th>Year</th>\n",
       "      <th>Month</th>\n",
       "      <th>Time</th>\n",
       "    </tr>\n",
       "  </thead>\n",
       "  <tbody>\n",
       "    <tr>\n",
       "      <th>0</th>\n",
       "      <td>b5919729-a91c-4c5a-91be-08a85becfad7</td>\n",
       "      <td>U3635</td>\n",
       "      <td>206.38</td>\n",
       "      <td>swipe</td>\n",
       "      <td>debit</td>\n",
       "      <td>unknown_merchant</td>\n",
       "      <td>NaN</td>\n",
       "      <td>desktop</td>\n",
       "      <td>0</td>\n",
       "      <td>2025</td>\n",
       "      <td>1</td>\n",
       "      <td>08:15:17</td>\n",
       "    </tr>\n",
       "    <tr>\n",
       "      <th>1</th>\n",
       "      <td>afd95224-b1af-42af-a695-8e62532fa7cf</td>\n",
       "      <td>U1694</td>\n",
       "      <td>73.02</td>\n",
       "      <td>atm</td>\n",
       "      <td>online</td>\n",
       "      <td>unknown_merchant</td>\n",
       "      <td>NaN</td>\n",
       "      <td>disk</td>\n",
       "      <td>0</td>\n",
       "      <td>2025</td>\n",
       "      <td>2</td>\n",
       "      <td>13:49:48</td>\n",
       "    </tr>\n",
       "    <tr>\n",
       "      <th>2</th>\n",
       "      <td>48ee2912-af4c-487a-bbcd-7ad080f04860</td>\n",
       "      <td>U6928</td>\n",
       "      <td>75.75</td>\n",
       "      <td>atm</td>\n",
       "      <td>credit</td>\n",
       "      <td>unknown_merchant</td>\n",
       "      <td>NaN</td>\n",
       "      <td>mobile</td>\n",
       "      <td>0</td>\n",
       "      <td>2025</td>\n",
       "      <td>2</td>\n",
       "      <td>01:34:19</td>\n",
       "    </tr>\n",
       "    <tr>\n",
       "      <th>3</th>\n",
       "      <td>b6ef8291-0006-453b-9ba9-98e2fc7fe4e2</td>\n",
       "      <td>U9552</td>\n",
       "      <td>3.87</td>\n",
       "      <td>swipe</td>\n",
       "      <td>debit</td>\n",
       "      <td>unknown_merchant</td>\n",
       "      <td>NaN</td>\n",
       "      <td>mobile</td>\n",
       "      <td>0</td>\n",
       "      <td>2025</td>\n",
       "      <td>1</td>\n",
       "      <td>10:01:01</td>\n",
       "    </tr>\n",
       "    <tr>\n",
       "      <th>4</th>\n",
       "      <td>3c0cfdb7-a829-4ce9-9c2b-1d7a1a65f152</td>\n",
       "      <td>U8242</td>\n",
       "      <td>130.77</td>\n",
       "      <td>atm</td>\n",
       "      <td>debit</td>\n",
       "      <td>Stewart-Larsen</td>\n",
       "      <td>NaN</td>\n",
       "      <td>mobile</td>\n",
       "      <td>0</td>\n",
       "      <td>2025</td>\n",
       "      <td>1</td>\n",
       "      <td>13:20:40</td>\n",
       "    </tr>\n",
       "    <tr>\n",
       "      <th>...</th>\n",
       "      <td>...</td>\n",
       "      <td>...</td>\n",
       "      <td>...</td>\n",
       "      <td>...</td>\n",
       "      <td>...</td>\n",
       "      <td>...</td>\n",
       "      <td>...</td>\n",
       "      <td>...</td>\n",
       "      <td>...</td>\n",
       "      <td>...</td>\n",
       "      <td>...</td>\n",
       "      <td>...</td>\n",
       "    </tr>\n",
       "    <tr>\n",
       "      <th>30295</th>\n",
       "      <td>07c96a02-8834-4a5f-ad04-48540af89baa</td>\n",
       "      <td>U7260</td>\n",
       "      <td>108.25</td>\n",
       "      <td>online</td>\n",
       "      <td>online</td>\n",
       "      <td>unknown_merchant</td>\n",
       "      <td>New Jessicaport</td>\n",
       "      <td>mobile</td>\n",
       "      <td>0</td>\n",
       "      <td>2025</td>\n",
       "      <td>1</td>\n",
       "      <td>00:56:24</td>\n",
       "    </tr>\n",
       "    <tr>\n",
       "      <th>30296</th>\n",
       "      <td>a1a3e49a-8eef-4671-befe-959aeeb46bab</td>\n",
       "      <td>U9988</td>\n",
       "      <td>20.59</td>\n",
       "      <td>swipe</td>\n",
       "      <td>debit</td>\n",
       "      <td>Pratt Group</td>\n",
       "      <td>Ricehaven</td>\n",
       "      <td>tablet</td>\n",
       "      <td>0</td>\n",
       "      <td>2025</td>\n",
       "      <td>2</td>\n",
       "      <td>20:11:48</td>\n",
       "    </tr>\n",
       "    <tr>\n",
       "      <th>30297</th>\n",
       "      <td>88f65d46-01ed-4d8e-8a5e-444053eb03ff</td>\n",
       "      <td>U2544</td>\n",
       "      <td>54.79</td>\n",
       "      <td>online</td>\n",
       "      <td>debit</td>\n",
       "      <td>unknown_merchant</td>\n",
       "      <td>NaN</td>\n",
       "      <td>disk</td>\n",
       "      <td>0</td>\n",
       "      <td>2025</td>\n",
       "      <td>4</td>\n",
       "      <td>08:37:42</td>\n",
       "    </tr>\n",
       "    <tr>\n",
       "      <th>30298</th>\n",
       "      <td>2152b6c1-3b92-48ac-a1e9-b141999c4c94</td>\n",
       "      <td>U1993</td>\n",
       "      <td>26.60</td>\n",
       "      <td>atm</td>\n",
       "      <td>online</td>\n",
       "      <td>unknown_merchant</td>\n",
       "      <td>Jillianton</td>\n",
       "      <td>disk</td>\n",
       "      <td>0</td>\n",
       "      <td>2025</td>\n",
       "      <td>2</td>\n",
       "      <td>00:57:28</td>\n",
       "    </tr>\n",
       "    <tr>\n",
       "      <th>30299</th>\n",
       "      <td>a00955e9-03dc-4ae7-a629-90ddb4efa154</td>\n",
       "      <td>U8653</td>\n",
       "      <td>217.04</td>\n",
       "      <td>swipe</td>\n",
       "      <td>debit</td>\n",
       "      <td>Jones PLC</td>\n",
       "      <td>NaN</td>\n",
       "      <td>tablet</td>\n",
       "      <td>0</td>\n",
       "      <td>2025</td>\n",
       "      <td>1</td>\n",
       "      <td>07:44:23</td>\n",
       "    </tr>\n",
       "  </tbody>\n",
       "</table>\n",
       "<p>30000 rows × 12 columns</p>\n",
       "</div>"
      ],
      "text/plain": [
       "                              TransactionID UserID  TransactionAmount  \\\n",
       "0      b5919729-a91c-4c5a-91be-08a85becfad7  U3635             206.38   \n",
       "1      afd95224-b1af-42af-a695-8e62532fa7cf  U1694              73.02   \n",
       "2      48ee2912-af4c-487a-bbcd-7ad080f04860  U6928              75.75   \n",
       "3      b6ef8291-0006-453b-9ba9-98e2fc7fe4e2  U9552               3.87   \n",
       "4      3c0cfdb7-a829-4ce9-9c2b-1d7a1a65f152  U8242             130.77   \n",
       "...                                     ...    ...                ...   \n",
       "30295  07c96a02-8834-4a5f-ad04-48540af89baa  U7260             108.25   \n",
       "30296  a1a3e49a-8eef-4671-befe-959aeeb46bab  U9988              20.59   \n",
       "30297  88f65d46-01ed-4d8e-8a5e-444053eb03ff  U2544              54.79   \n",
       "30298  2152b6c1-3b92-48ac-a1e9-b141999c4c94  U1993              26.60   \n",
       "30299  a00955e9-03dc-4ae7-a629-90ddb4efa154  U8653             217.04   \n",
       "\n",
       "      TransactionType CardType          Merchant         Location DeviceType  \\\n",
       "0               swipe    debit  unknown_merchant              NaN    desktop   \n",
       "1                 atm   online  unknown_merchant              NaN       disk   \n",
       "2                 atm   credit  unknown_merchant              NaN     mobile   \n",
       "3               swipe    debit  unknown_merchant              NaN     mobile   \n",
       "4                 atm    debit    Stewart-Larsen              NaN     mobile   \n",
       "...               ...      ...               ...              ...        ...   \n",
       "30295          online   online  unknown_merchant  New Jessicaport     mobile   \n",
       "30296           swipe    debit       Pratt Group        Ricehaven     tablet   \n",
       "30297          online    debit  unknown_merchant              NaN       disk   \n",
       "30298             atm   online  unknown_merchant       Jillianton       disk   \n",
       "30299           swipe    debit         Jones PLC              NaN     tablet   \n",
       "\n",
       "       IsFraud  Year  Month      Time  \n",
       "0            0  2025      1  08:15:17  \n",
       "1            0  2025      2  13:49:48  \n",
       "2            0  2025      2  01:34:19  \n",
       "3            0  2025      1  10:01:01  \n",
       "4            0  2025      1  13:20:40  \n",
       "...        ...   ...    ...       ...  \n",
       "30295        0  2025      1  00:56:24  \n",
       "30296        0  2025      2  20:11:48  \n",
       "30297        0  2025      4  08:37:42  \n",
       "30298        0  2025      2  00:57:28  \n",
       "30299        0  2025      1  07:44:23  \n",
       "\n",
       "[30000 rows x 12 columns]"
      ]
     },
     "execution_count": 50,
     "metadata": {},
     "output_type": "execute_result"
    }
   ],
   "source": [
    "df"
   ]
  },
  {
   "cell_type": "code",
   "execution_count": 51,
   "id": "07751a76",
   "metadata": {},
   "outputs": [],
   "source": [
    "df.drop(columns=['Location'],inplace=True)"
   ]
  },
  {
   "cell_type": "code",
   "execution_count": 52,
   "id": "3f6ffbb8",
   "metadata": {},
   "outputs": [],
   "source": [
    "cleaned=df.copy()"
   ]
  },
  {
   "cell_type": "code",
   "execution_count": 53,
   "id": "cb321ed5",
   "metadata": {},
   "outputs": [
    {
     "name": "stdout",
     "output_type": "stream",
     "text": [
      "<class 'pandas.core.frame.DataFrame'>\n",
      "Index: 30000 entries, 0 to 30299\n",
      "Data columns (total 11 columns):\n",
      " #   Column             Non-Null Count  Dtype  \n",
      "---  ------             --------------  -----  \n",
      " 0   TransactionID      30000 non-null  object \n",
      " 1   UserID             30000 non-null  object \n",
      " 2   TransactionAmount  30000 non-null  float64\n",
      " 3   TransactionType    30000 non-null  object \n",
      " 4   CardType           30000 non-null  object \n",
      " 5   Merchant           30000 non-null  object \n",
      " 6   DeviceType         30000 non-null  object \n",
      " 7   IsFraud            30000 non-null  int64  \n",
      " 8   Year               30000 non-null  int32  \n",
      " 9   Month              30000 non-null  int32  \n",
      " 10  Time               30000 non-null  object \n",
      "dtypes: float64(1), int32(2), int64(1), object(7)\n",
      "memory usage: 2.5+ MB\n"
     ]
    }
   ],
   "source": [
    "df.info()\n"
   ]
  },
  {
   "cell_type": "markdown",
   "id": "1b2d4e09",
   "metadata": {},
   "source": [
    "## :) HERE WE GET OUR CLEANED DATASET WITHOUT MISSING VALUES"
   ]
  },
  {
   "cell_type": "code",
   "execution_count": 54,
   "id": "72af78af",
   "metadata": {},
   "outputs": [
    {
     "data": {
      "text/html": [
       "<div>\n",
       "<style scoped>\n",
       "    .dataframe tbody tr th:only-of-type {\n",
       "        vertical-align: middle;\n",
       "    }\n",
       "\n",
       "    .dataframe tbody tr th {\n",
       "        vertical-align: top;\n",
       "    }\n",
       "\n",
       "    .dataframe thead th {\n",
       "        text-align: right;\n",
       "    }\n",
       "</style>\n",
       "<table border=\"1\" class=\"dataframe\">\n",
       "  <thead>\n",
       "    <tr style=\"text-align: right;\">\n",
       "      <th></th>\n",
       "      <th>TransactionID</th>\n",
       "      <th>UserID</th>\n",
       "      <th>TransactionAmount</th>\n",
       "      <th>TransactionType</th>\n",
       "      <th>CardType</th>\n",
       "      <th>Merchant</th>\n",
       "      <th>DeviceType</th>\n",
       "      <th>IsFraud</th>\n",
       "      <th>Year</th>\n",
       "      <th>Month</th>\n",
       "      <th>Time</th>\n",
       "    </tr>\n",
       "  </thead>\n",
       "  <tbody>\n",
       "    <tr>\n",
       "      <th>0</th>\n",
       "      <td>b5919729-a91c-4c5a-91be-08a85becfad7</td>\n",
       "      <td>U3635</td>\n",
       "      <td>206.38</td>\n",
       "      <td>swipe</td>\n",
       "      <td>debit</td>\n",
       "      <td>unknown_merchant</td>\n",
       "      <td>desktop</td>\n",
       "      <td>0</td>\n",
       "      <td>2025</td>\n",
       "      <td>1</td>\n",
       "      <td>08:15:17</td>\n",
       "    </tr>\n",
       "    <tr>\n",
       "      <th>1</th>\n",
       "      <td>afd95224-b1af-42af-a695-8e62532fa7cf</td>\n",
       "      <td>U1694</td>\n",
       "      <td>73.02</td>\n",
       "      <td>atm</td>\n",
       "      <td>online</td>\n",
       "      <td>unknown_merchant</td>\n",
       "      <td>disk</td>\n",
       "      <td>0</td>\n",
       "      <td>2025</td>\n",
       "      <td>2</td>\n",
       "      <td>13:49:48</td>\n",
       "    </tr>\n",
       "    <tr>\n",
       "      <th>2</th>\n",
       "      <td>48ee2912-af4c-487a-bbcd-7ad080f04860</td>\n",
       "      <td>U6928</td>\n",
       "      <td>75.75</td>\n",
       "      <td>atm</td>\n",
       "      <td>credit</td>\n",
       "      <td>unknown_merchant</td>\n",
       "      <td>mobile</td>\n",
       "      <td>0</td>\n",
       "      <td>2025</td>\n",
       "      <td>2</td>\n",
       "      <td>01:34:19</td>\n",
       "    </tr>\n",
       "    <tr>\n",
       "      <th>3</th>\n",
       "      <td>b6ef8291-0006-453b-9ba9-98e2fc7fe4e2</td>\n",
       "      <td>U9552</td>\n",
       "      <td>3.87</td>\n",
       "      <td>swipe</td>\n",
       "      <td>debit</td>\n",
       "      <td>unknown_merchant</td>\n",
       "      <td>mobile</td>\n",
       "      <td>0</td>\n",
       "      <td>2025</td>\n",
       "      <td>1</td>\n",
       "      <td>10:01:01</td>\n",
       "    </tr>\n",
       "    <tr>\n",
       "      <th>4</th>\n",
       "      <td>3c0cfdb7-a829-4ce9-9c2b-1d7a1a65f152</td>\n",
       "      <td>U8242</td>\n",
       "      <td>130.77</td>\n",
       "      <td>atm</td>\n",
       "      <td>debit</td>\n",
       "      <td>Stewart-Larsen</td>\n",
       "      <td>mobile</td>\n",
       "      <td>0</td>\n",
       "      <td>2025</td>\n",
       "      <td>1</td>\n",
       "      <td>13:20:40</td>\n",
       "    </tr>\n",
       "  </tbody>\n",
       "</table>\n",
       "</div>"
      ],
      "text/plain": [
       "                          TransactionID UserID  TransactionAmount  \\\n",
       "0  b5919729-a91c-4c5a-91be-08a85becfad7  U3635             206.38   \n",
       "1  afd95224-b1af-42af-a695-8e62532fa7cf  U1694              73.02   \n",
       "2  48ee2912-af4c-487a-bbcd-7ad080f04860  U6928              75.75   \n",
       "3  b6ef8291-0006-453b-9ba9-98e2fc7fe4e2  U9552               3.87   \n",
       "4  3c0cfdb7-a829-4ce9-9c2b-1d7a1a65f152  U8242             130.77   \n",
       "\n",
       "  TransactionType CardType          Merchant DeviceType  IsFraud  Year  Month  \\\n",
       "0           swipe    debit  unknown_merchant    desktop        0  2025      1   \n",
       "1             atm   online  unknown_merchant       disk        0  2025      2   \n",
       "2             atm   credit  unknown_merchant     mobile        0  2025      2   \n",
       "3           swipe    debit  unknown_merchant     mobile        0  2025      1   \n",
       "4             atm    debit    Stewart-Larsen     mobile        0  2025      1   \n",
       "\n",
       "       Time  \n",
       "0  08:15:17  \n",
       "1  13:49:48  \n",
       "2  01:34:19  \n",
       "3  10:01:01  \n",
       "4  13:20:40  "
      ]
     },
     "execution_count": 54,
     "metadata": {},
     "output_type": "execute_result"
    }
   ],
   "source": [
    "cleaned.head()"
   ]
  },
  {
   "cell_type": "code",
   "execution_count": null,
   "id": "2a6e3f1d",
   "metadata": {},
   "outputs": [],
   "source": []
  },
  {
   "cell_type": "markdown",
   "id": "aefad354",
   "metadata": {},
   "source": [
    "# Histogram\n",
    "- It shows that Transaction Amount has mostly higher values\n",
    "- This is baised data because IsFraud have column have mostly 0 value"
   ]
  },
  {
   "cell_type": "code",
   "execution_count": 59,
   "id": "25569272",
   "metadata": {},
   "outputs": [
    {
     "data": {
      "image/png": "[encoded data removed]",
      "text/plain": [
       "<Figure size 1500x1500 with 4 Axes>"
      ]
     },
     "metadata": {},
     "output_type": "display_data"
    }
   ],
   "source": [
    "df.hist(figsize=(15, 15))\n",
    "plt.show()"
   ]
  },
  {
   "cell_type": "markdown",
   "id": "cb50a429",
   "metadata": {},
   "source": [
    "# Boxplot (Finding Outliers and Spread)\n",
    "- Show the spread (minimum, maximum, median, quartiles).\n",
    "\n",
    "- Show outliers (dots outside the box).\n",
    "- 📍 Small box → Feature values are very close together (low variance).\n",
    "\n",
    "- 📍 Big box → Feature values are spread out (high variance).\n",
    "\n",
    "- 📍 Many dots outside → Feature has many outliers."
   ]
  },
  {
   "cell_type": "code",
   "execution_count": 60,
   "id": "8e55fbbf",
   "metadata": {},
   "outputs": [],
   "source": [
    "import seaborn as sns"
   ]
  },
  {
   "cell_type": "code",
   "execution_count": null,
   "id": "75e09a23",
   "metadata": {},
   "outputs": [
    {
     "data": {
      "image/png": "[encoded data removed]",
      "text/plain": [
       "<Figure size 2000x1000 with 1 Axes>"
      ]
     },
     "metadata": {},
     "output_type": "display_data"
    }
   ],
   "source": [
    "# Boxplot for all TransactionAmount features\n",
    "plt.figure(figsize=(20, 10))\n",
    "sns.boxplot(data=df['TransactionAmount'])\n",
    "plt.xticks(rotation=90)\n",
    "plt.title('Boxplot for each feature')\n",
    "plt.show()"
   ]
  },
  {
   "cell_type": "markdown",
   "id": "8bcfd8f8",
   "metadata": {},
   "source": [
    "#  Correlation Matrix (Heatmap)\n",
    "- Calculate correlation between all features.\n",
    "\n",
    "- Plot a colorful heatmap where:\n",
    "\n",
    "- - +1 → Strong positive relationship\n",
    "\n",
    "- - -1 → Strong negative relationship\n",
    "\n",
    "- - 0 → No relationship\n",
    "\n",
    "- Color\t      ----->>       Meaning\n",
    "\n",
    "- - Dark Red\t   ----->>      Strong Positive (feature increases together)\n",
    "\n",
    "- - Dark Blue\t    ----->>     Strong Negative (one feature increases, other decreases)\n",
    "\n",
    "- - White or Light\t   ----->>  Weak/No relation\n",
    "\n",
    "- 📍 Correlation near +1 → Features are similar (move together).\n",
    "\n",
    "- 📍 Correlation near -1 → Features are opposite.\n",
    "\n",
    "- 📍 Correlation near 0 → Features are independent."
   ]
  },
  {
   "cell_type": "code",
   "execution_count": 65,
   "id": "c295921f",
   "metadata": {},
   "outputs": [
    {
     "data": {
      "image/png": "[encoded data removed]",
      "text/plain": [
       "<Figure size 1500x1000 with 2 Axes>"
      ]
     },
     "metadata": {},
     "output_type": "display_data"
    }
   ],
   "source": [
    "# Keep only numeric columns\n",
    "numeric_df = df.select_dtypes(include=['number'])\n",
    "\n",
    "# Calculate correlation\n",
    "corr_matrix = numeric_df.corr()\n",
    "\n",
    "# Plot heatmap\n",
    "plt.figure(figsize=(15, 10))\n",
    "sns.heatmap(corr_matrix, annot=True, cmap='coolwarm', fmt=\".2f\")\n",
    "plt.title('Correlation Heatmap (Numeric Features Only)')\n",
    "plt.show()"
   ]
  },
  {
   "cell_type": "markdown",
   "id": "eb399f6a",
   "metadata": {},
   "source": [
    "# Count Plot\n",
    "\n",
    "- ✅ After seeing this, you will know:\n",
    "\n",
    "- - Whether your dataset is imbalanced (most real-world fraud datasets are).\n",
    "\n",
    "- - Whether you need techniques like oversampling/undersampling later during model training."
   ]
  },
  {
   "cell_type": "code",
   "execution_count": 69,
   "id": "7f0f9d5e",
   "metadata": {},
   "outputs": [
    {
     "data": {
      "image/png": "[encoded data removed]",
      "text/plain": [
       "<Figure size 600x400 with 1 Axes>"
      ]
     },
     "metadata": {},
     "output_type": "display_data"
    }
   ],
   "source": [
    "\n",
    "# Assuming 'Class' is the column where\n",
    "# 0 = Not Fraud, 1 = Fraud\n",
    "plt.figure(figsize=(6,4))\n",
    "sns.countplot(x='IsFraud', data=df)\n",
    "plt.title('Count of Non-Fraud vs Fraud Cases')\n",
    "plt.xlabel('Class (0 = Not Fraud, 1 = Fraud)')\n",
    "plt.ylabel('Count')\n",
    "plt.show()\n"
   ]
  },
  {
   "cell_type": "markdown",
   "id": "dfece73d",
   "metadata": {},
   "source": [
    "# Pairplot (Scatterplots between features)\n",
    "- ✅ What this code does:\n",
    "\n",
    "- Picks only a few important features (because pairplot becomes very heavy if we use full dataset).\n",
    "\n",
    "- Plots scatterplots for each feature pair.\n",
    "\n",
    "- Colors points based on 'Class' (0 = Non-fraud, 1 = Fraud).\n",
    "\n",
    "- Observation ------>\tMeaning\n",
    "- - Fraud and non-fraud points are separated ------>\tThese features are good for model training\n",
    "- - Fraud and non-fraud points mixed ------>\tThese features may not help much\n",
    "\n",
    "- ✅ After pairplot, you will visually know:\n",
    "\n",
    "- - Which features help in separating fraud cases.\n",
    "\n",
    "- - Which ones are not so helpful."
   ]
  },
  {
   "cell_type": "code",
   "execution_count": 73,
   "id": "12ffc072",
   "metadata": {},
   "outputs": [
    {
     "data": {
      "image/png": "[encoded data removed]",
      "text/plain": [
       "<Figure size 561.236x500 with 6 Axes>"
      ]
     },
     "metadata": {},
     "output_type": "display_data"
    }
   ],
   "source": [
    "# Take only important columns for pairplot\n",
    "# Example: V1, V2, V3, Amount and Class\n",
    "selected_columns = ['TransactionAmount', 'Month','IsFraud']\n",
    "\n",
    "# Make sure columns exist (skip this if you're sure)\n",
    "selected_columns = [col for col in selected_columns if col in df.columns]\n",
    "\n",
    "# Plot pairplot\n",
    "sns.pairplot(df[selected_columns], hue='IsFraud', diag_kind='kde')\n",
    "plt.show()\n"
   ]
  },
  {
   "cell_type": "code",
   "execution_count": null,
   "id": "8e289277",
   "metadata": {},
   "outputs": [],
   "source": []
  },
  {
   "cell_type": "code",
   "execution_count": null,
   "id": "38bbf983",
   "metadata": {},
   "outputs": [],
   "source": []
  }
 ],
 "metadata": {
  "kernelspec": {
   "display_name": "base",
   "language": "python",
   "name": "python3"
  },
  "language_info": {
   "codemirror_mode": {
    "name": "ipython",
    "version": 3
   },
   "file_extension": ".py",
   "mimetype": "text/x-python",
   "name": "python",
   "nbconvert_exporter": "python",
   "pygments_lexer": "ipython3",
   "version": "3.12.4"
  }
 },
 "nbformat": 4,
 "nbformat_minor": 5
}
